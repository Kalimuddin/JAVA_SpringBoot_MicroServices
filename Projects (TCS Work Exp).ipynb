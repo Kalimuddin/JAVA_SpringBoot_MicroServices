{
 "cells": [
  {
   "cell_type": "code",
   "execution_count": 1,
   "id": "02b73c1b",
   "metadata": {},
   "outputs": [],
   "source": [
    "# Add Spring Security in Resume"
   ]
  },
  {
   "cell_type": "markdown",
   "id": "a2c89fa4",
   "metadata": {},
   "source": [
    "### What was Role and Responsibility"
   ]
  },
  {
   "cell_type": "markdown",
   "id": "1767db46",
   "metadata": {},
   "source": [
    "### 1. DM977 CorFormulary "
   ]
  },
  {
   "cell_type": "markdown",
   "id": "c14d7ace",
   "metadata": {},
   "source": [
    "1. Got FRD from onsite\n",
    "2. Create Query Tracker, HLD and sent onsite for review/approval multiple times\n",
    "\n",
    "- Populate the correct format of data file in excel sheet and database.\n",
    "- Add two extra column names ESP and ESP Manufaccturer Name in existing format for Download template, Upload File, Download full data.\n",
    "\n",
    "###### Existing Design :\n",
    "- Download Template : NDC, Labeler Code, Action. (there is no ESP and ESP_Manufaccturer_Name columns)\n",
    "- Upload File : NDC, Labeler Code, Action. (there is no ESP and ESP_Manufaccturer_Name columns)\n",
    "- Download full Data : NDC, Labeler Code, Drug Description, Manufacturer Name. (there is no ESP and ESP_Manufaccturer_Name columns)\n",
    "\n",
    "###### New Design :\n",
    "- Download Template : NDC, Labeler Code, ESP, ESP Manufacturer Name, Action. (ESP: dropdown with value YES and NO. ESP Manufaccturer Name : dropdown and its value will be fetched from CFG_CODE_DECODE table)\n",
    "- Upload File : NDC, Labeler Code, ESP, ESP Manufacturer Name, Action.\n",
    "- Download full Data : NDC, Labeler Code, Drug Description, Manufacturer Name, ESP, ESP Manufacturer Name.\n",
    "\n",
    "3. Written SQL query for Download Template, Upload File, Download Full Data.\n",
    "4. perfrom DBCR and DMR(pythonscript run on jupyter for large data migration)\n",
    "5. Check on SonarLint for code quality, Imlemented JUnit, Sonarqube Analysis\n",
    "6. Written trigger query\n",
    "6. Create proper document for UTC and UTR.\n",
    "7. DM977CorFormularyImages : folder in mobile\n"
   ]
  },
  {
   "cell_type": "markdown",
   "id": "d869c81a",
   "metadata": {},
   "source": [
    "### 2. DM989 : Java BTSBatch"
   ]
  },
  {
   "cell_type": "markdown",
   "id": "e0e6b08a",
   "metadata": {},
   "source": [
    "###### Existing Design :\n",
    "\n",
    "- There are currently two files data file and sig file from stores, It .sig and datafile.txt have many information which is not usable as of now, which takes more time to run batch.\n",
    "\n",
    "###### New Design :\n",
    "\n",
    "- As per new design 340b will receive zip folder contain txt file from each stores/SIMS which having orders.\n",
    "- 340b will unzip that zipped folder at a destination path/directory, then will process those individual text file received from stores.\n",
    "- SIMSListener will parse the acknowledgement files in the directory from SIMS/store and populate the data structure and return map of PO Id as key and list of SIMSListenerBeans as value as it was doing earlier.\n",
    "- Data inside the files will be pipe delimited: Order number, product identifier, location type, order qty, order creation date time.\n",
    "\n",
    "###### Batch run steps :\n",
    "\n",
    "- first pull request R99 -> R99_UAT, check it is deployed then run in putty.\n",
    "- open putty : enter host aamitlndd1la003.walgreens.com, login as 340bqa and pswrd \n",
    "- pwd\n",
    "- cd script directory  (script directly is where script file is present in WinSCP)\n",
    "- sh ... .sh\n",
    "\n",
    "###### Code work :\n",
    "\n",
    "- first it will fetch poID which is already present in database.\n",
    "- Create method for zipFile(String filePath, String zipFileName) and unZipFile(String filepath) in POUtil.java\n",
    "- Some constant directory are wriiten in CommonConstants.java\n",
    "- Some zip directory are mentioned in BTSBatch.properties_UAT\n",
    "- added logger in catch block also, SIMSListenerServiceIMPL.java -> startService()\n",
    "- parseFile() : PO id as key and list of SIMSListenerBean as value, \n",
    "- loadSIMSListenerBean(dataToParse) : for each line data in text form, it will used in parseFile(), it will return SIMSLIStenerbean."
   ]
  },
  {
   "cell_type": "markdown",
   "id": "01c530bf",
   "metadata": {},
   "source": [
    "### Services : Party Service, Ocis Service, Search Orchestrator Service, IPNI Service, Income Detail Consumer\n",
    "\n",
    "\n",
    "###### Party Service :\n",
    "\n",
    "- Party Service provides the required capabilities for creating, updating and retrieving information related to party.\n",
    "- POST : Onboard a new party, onboard a new minor party along with guardian/parent \n",
    "- Party LifeCycle :\n",
    " - GET : /parties/{partyId} - Return party Details\n",
    " - GET : /parties/{partyId}/statuses - Return all party statuses\n",
    " - GET : /parties/{partyId}/addresses - Return all party addresses\n",
    " - GET : /parties/{partyId}/contactDetails - Return all party contact details\n",
    " - GET : /parties/{partyId}/portfolioItems - Return all portfolio items\n",
    " - GET : /parties/{partyId}/preferences - Fetch preferences for a party brand\n",
    " - GET : /parties/{partyId}/notificationBrandPreference - Fetch notification brand preference for a party\n",
    " - GET : /parties/{partyId}/countryAssociation - Returns all party country associations\n",
    " - GET : /parties/{partyId}/countryAssociation/{countryAssociationId} - Returns all party country associations\n",
    " - GET : /parties/{partyId}/identifiers - Get all party identifier\n",
    " - GET : /parties/{partyId}/employmentDetails - get all party employment details\n",
    " - GET : /parties/{partyId}/partyInternalReference - get all party internal reference\n",
    " \n",
    "- Migration :\n",
    " - POST : /parties/migrate/basicinfo - API for preloading basic info of a party\n",
    " - POST : /parties/{partyId}migrate - API for updating party detailsfor migration\n",
    "\n",
    "- Subscriber :\n",
    " - CreateOrUpdateAccountSubscriber - \n",
    " - CreatePortfolioSubscriber\n",
    " - ClosePartySubscriber - The subscriber update the party lifecycle status to close\n",
    " - closeAccounntSubscriber - The subscriber sets party's portfolio item to closed\n",
    " - UpdateContactDetailSubscriber - The Subscriber update part's contact details\n",
    "\n",
    "- BDD Testing : It contains the acceptance test scenarios for BDD feature testing of various party service and update the results in Cucumber reports in jenkin pipeline\n",
    " \n",
    "###### Ocis Service : \n",
    "\n",
    "- This Ocis Service provides api's to integrate with any OCIS functionalities. Currently we have lending group API only. \n",
    "- POST : /customer/lending-groups - Create Lending Group\n",
    "- PUT : /customers/lending-group - Update Lending Group\n",
    "\n",
    "\n",
    "###### Search Orchestrator Service :\n",
    "\n",
    "- Search Orchestrator Service provides api's to support party prospect journey (CCS, nCino Requirements Shaping - CDP)\n",
    "- Prospect and Onboarding journey api's : \n",
    " - POST : /parties/{sourceId}/non-personal - Non-Personal party Additional Details\n",
    " - GET : /parties/search/non-personal - \n",
    " - POST : /parties/search/personal - Personal party search\n",
    " - Get : /parties/{partyId}/personal - Personal Party Additional Details\n",
    " - POST : /parties/{partyID}/source-Identifiers - Party Update Ncino Id to Ocis\n",
    "\n",
    "###### IPNI Service :\n",
    "\n",
    "- This is micro service which have different consumer which will listed to stage 4 downstream create and update message. Consumer will internally interact with the party-service to get the party related information, curate the message (json) and publish to GCP kafka. The IP&I will listen to GCP kafka for the required messages\n",
    "\n",
    " - Telephone (create and update message)\n",
    " - individual : personal party (update message)\n",
    " - Country association (create and update message)\n",
    " - Address (create and update message)\n",
    " - Party internal refrence (create message)\n",
    " - Additional party attribute (create and update message)\n",
    " \n",
    "- .\\gradlew bootrun, .\\gradlew build\n",
    "\n",
    "###### Income Detail Consumer : \n",
    "\n",
    "- No controller\n",
    "- Kafka, Service, Repository\n"
   ]
  },
  {
   "cell_type": "markdown",
   "id": "f59e2755",
   "metadata": {},
   "source": [
    "### IMDT-78632 : IPRD, Create API, Add a flag to differentiate the calls from CCS and others\n",
    "\n",
    "###### Requirement : \n",
    "\n",
    "- Changes in Services : Party Service, SearchOrchestrator Service (.quryParam() changes)\n",
    "- call from CCS : retrieve IPR details by joining the tables\n",
    "- call from non-CCS : retreve only from IPRD (which ActiveCustomerRelationshipDetails)\n",
    "- Changes : \n",
    " - Added @RequestParam(name =\"source\", required = false) String source, (in CustomerRelationshipHierarchyController.java)\n",
    " - getCustomer() data with extra parameter with source \"CCS\"\n",
    " - added if check : for source in ServiceImpl\n",
    " - added Constant Data String SOURCE_CCS = \"CCS\"\n",
    " - Updated Swagger specs as well : api-specs->party-service.yml (other yml files also)\n",
    " - Written Unit Test Cases : CustomerDatawithJoin and CustomerDataWithoutJoin, also changes in testData\n",
    " - Changes in Repository Layer, Written SQL queries for both condition as per requirement.\n",
    " - Controller -> Service (Interface) -> ServiceImpl (also extra method calling) -> Repository (.java files for sql queries with @Query())"
   ]
  },
  {
   "cell_type": "markdown",
   "id": "c3f3fddf",
   "metadata": {},
   "source": [
    "### IMDT-84085 EmploymentDetails, Issue when update with empty string for EmployerName and JobTitle\n",
    "\n",
    "- Changes in PartyService /..../ EmploymentDetailServiceIMPL.java\n",
    "- getEmploymentDetailResponse() { persistemploymentDetail() }\n",
    "- In getEmploymentDetailResponse() there will be only non null values\n",
    "- persistemploymentDetail() will return EmploymentDetail (@Table)\n",
    "- First we create Party, then update with some string value and then update with empty string\n",
    "- Expected : EmployerName & Jobtitle should not appear in the api for empty string update\n",
    "- Issue was when we update in 2nd time with empty string, it should update in dataBase but after hitting the api for retriew employmentDetails it should not appear\n",
    "- Changes in persistemploymentDetail() where if condition check, for both null and empty string it will set null so that in getEmploymentDetailResponse(), the null values will not appear in api, Earlier there was only check for null.\n",
    "-\n",
    "- for consumer, in which company consumer are working, Employer Name like details....."
   ]
  },
  {
   "cell_type": "markdown",
   "id": "89516204",
   "metadata": {},
   "source": [
    "### IMDT-83962 EmploymentDetails, CreatedTimestamp value getting replaced/overlapped by the LastModifiedTimestamp on update operation\n",
    "\n",
    "- changes in Service : income detail consumer service, party service\n",
    "- /customer/consumer/service/NonCorePartyDetailMessageFactory.java --> ConstructEmploymentDetailsAvroMessage(nonCorePartyDetailMessageWrapper)\n",
    "- added extra if check for eventType if it is insert or update, if it is insert then only set employmentdetails.setCreatedTimestammp() and .setcreatedBy()\n",
    "- Separate method for constructTimeStampField() of String return type "
   ]
  },
  {
   "cell_type": "markdown",
   "id": "8601a492",
   "metadata": {},
   "source": [
    "### IMDT-82987 Date of Death is not updating IPNI individual topic and in DataBase with valid value and with empty string,\n",
    "\n",
    "- src/main/java/.../ipni/util/IpniRequestFactory.java --> ConstructIndividualUpdateDetail()\n",
    "- IN IPNIRequestFactory.java: The code was not written for set the value of DeathDate, Only for DeathNotifiedDate was written\n",
    "- PartyLifecycleStatusCode Deceased,\n",
    "- individual.setDeathDate(constructDate(personDetails.getDateOfDeath()))\n",
    "- written extra unit test case also"
   ]
  },
  {
   "cell_type": "markdown",
   "id": "c015b852",
   "metadata": {},
   "source": [
    "### IMDT-83317 Update DOB as empty string for personal party is not updating in individual topic and in Data Base\n",
    "\n",
    "- if check was missing for empty string for update\n",
    "- previous check was like update DOB with valid DOB in which the empty string case was not included\n",
    "- written extra unit test case also"
   ]
  },
  {
   "cell_type": "markdown",
   "id": "9de434a9",
   "metadata": {},
   "source": [
    "### CDSL-718 : Disable Unused endPoints from Ocis-Service\n",
    "\n",
    "###### Requirement :\n",
    "\n",
    "- env : bld, int, pre, prd \n",
    "- only bld and int env are allowed to have all endpoints active at this time\n",
    "- disble each api except which is related to lending group and update with party-internal-reference\n",
    "- api : get and update for partyDetails, PartyTelephonesTelephones, GetAddressDetails\n",
    "- Removed swagger for temporary disabling endpoints\n",
    "- other ways : Disable each api separately using @ConditionalOnProperty with proper name and mention in application.proerties\n",
    "- Ideal way also move all the endpoonts needed by data shield to a new controller and disable it."
   ]
  },
  {
   "cell_type": "code",
   "execution_count": null,
   "id": "e3fae85a",
   "metadata": {},
   "outputs": [],
   "source": []
  },
  {
   "cell_type": "markdown",
   "id": "48def2c1",
   "metadata": {},
   "source": [
    "# Major Project JBDL :\n",
    "- create user, getuser, jpa, spring authentication, kafka streaming publish message kafka producer, consume message, save data in database, transactionService"
   ]
  },
  {
   "cell_type": "markdown",
   "id": "94693a8f",
   "metadata": {},
   "source": [
    "- in utils comman constant, common library, common code, which will be part of multiple repositories, multiple application\n",
    "- in pm.xml : dependencies\n",
    "- factory : connection to kafka, construct,\n",
    "- kafka : kafka producer, for publishing the event which will listened by other consumer\n",
    "- add loggers in proper places\n",
    "- exceptional handling\n",
    "- global security configuration\n",
    "- individual as topic\n",
    "- unit testing for individual module\n",
    "-\n",
    "- transactionservice : when the transaction is initiated it will make the entry in transaction tablewith the status as \"pending\" and it will publish the event, this event will be published on transactionCreatedTopic will be consume by wallet service to perform the validation and update the wallet status and again it will publish the event which will be consumed by transaction service to update the transaction status. Once the transaction status is updated either it will publish again two events 1st will be transaction success events which will publish for sender of the transaction and 2nd event will be published only if the transaction is successfull which is for the receiver ends, so receiver will published only if the transaction is successsfull otherwise only sender events will be published."
   ]
  },
  {
   "cell_type": "code",
   "execution_count": null,
   "id": "55de363f",
   "metadata": {},
   "outputs": [],
   "source": []
  }
 ],
 "metadata": {
  "kernelspec": {
   "display_name": "Python 3 (ipykernel)",
   "language": "python",
   "name": "python3"
  },
  "language_info": {
   "codemirror_mode": {
    "name": "ipython",
    "version": 3
   },
   "file_extension": ".py",
   "mimetype": "text/x-python",
   "name": "python",
   "nbconvert_exporter": "python",
   "pygments_lexer": "ipython3",
   "version": "3.9.7"
  }
 },
 "nbformat": 4,
 "nbformat_minor": 5
}
