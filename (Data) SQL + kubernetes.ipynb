{
 "cells": [
  {
   "cell_type": "markdown",
   "id": "2ded5159",
   "metadata": {},
   "source": [
    "# SQL Interview Q : "
   ]
  },
  {
   "cell_type": "markdown",
   "id": "ead6dfa0",
   "metadata": {},
   "source": [
    "https://www.w3schools.com/sql/exercise.asp"
   ]
  },
  {
   "cell_type": "markdown",
   "id": "c2463026",
   "metadata": {},
   "source": [
    "- find 2nd max in salary of table\n",
    "- find 3rd max in salary of table\n",
    "- find 4th max in salary of table"
   ]
  },
  {
   "cell_type": "markdown",
   "id": "e6ed9dab",
   "metadata": {},
   "source": [
    "#### Indexing in SQL :"
   ]
  },
  {
   "cell_type": "markdown",
   "id": "f19c17e8",
   "metadata": {},
   "source": [
    "#### Primary vs Unique key, purpose of primary and unique key"
   ]
  },
  {
   "cell_type": "markdown",
   "id": "0bf518ca",
   "metadata": {},
   "source": [
    "#### which annotation used for making primary key"
   ]
  },
  {
   "cell_type": "markdown",
   "id": "49143aa1",
   "metadata": {},
   "source": [
    "#### How to optimize SQL query"
   ]
  },
  {
   "cell_type": "markdown",
   "id": "5b801c92",
   "metadata": {},
   "source": [
    "#### Cartesian product vs join,"
   ]
  },
  {
   "cell_type": "markdown",
   "id": "eb33fa83",
   "metadata": {},
   "source": [
    "#### Datatypes in SQL"
   ]
  },
  {
   "cell_type": "code",
   "execution_count": null,
   "id": "2c98ec68",
   "metadata": {},
   "outputs": [],
   "source": []
  }
 ],
 "metadata": {
  "kernelspec": {
   "display_name": "Python 3 (ipykernel)",
   "language": "python",
   "name": "python3"
  },
  "language_info": {
   "codemirror_mode": {
    "name": "ipython",
    "version": 3
   },
   "file_extension": ".py",
   "mimetype": "text/x-python",
   "name": "python",
   "nbconvert_exporter": "python",
   "pygments_lexer": "ipython3",
   "version": "3.9.7"
  }
 },
 "nbformat": 4,
 "nbformat_minor": 5
}
